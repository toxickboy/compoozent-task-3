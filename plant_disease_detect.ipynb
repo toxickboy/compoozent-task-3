{
  "cells": [
    {
      "cell_type": "code",
      "execution_count": null,
      "metadata": {
        "colab": {
          "base_uri": "https://localhost:8080/"
        },
        "id": "cu_pq-vzXflc",
        "outputId": "9826786c-509d-4699-c6f3-4d33f57fd5cc"
      },
      "outputs": [
        {
          "output_type": "stream",
          "name": "stdout",
          "text": [
            "Successfully extracted '/content/drive/MyDrive/archive.zip' to '/content'\n"
          ]
        }
      ],
      "source": [
        "import zipfile\n",
        "import os\n",
        "#Define the path to the zip file and the extraction directory\n",
        "zip_file_path=\"/content/drive/MyDrive/archive.zip\"\n",
        "extract_dir = \"/content\"\n",
        "\n",
        "#Check if the zip file exists\n",
        "if os.path.exists(zip_file_path):\n",
        "    # Indent the code block within the 'if' statement\n",
        "    try:\n",
        "        #Create a ZipFile object\n",
        "        with zipfile.ZipFile(zip_file_path, 'r') as zip_ref:\n",
        "            #Extract all contents to the specified directory\n",
        "            zip_ref.extractall(extract_dir) # Changed {extract_dir} to (extract_dir)\n",
        "\n",
        "            print(f\"Successfully extracted '{zip_file_path}' to '{extract_dir}'\")\n",
        "\n",
        "    except zipfile.BadZipFile:\n",
        "        print(f\"Error: '{zip_file_path}'is not a valid zip file.\")\n",
        "\n",
        "    except Exception as e:\n",
        "        print(f\"An error occurred: '{e}'\")\n",
        "\n",
        "else:\n",
        "    print(f\"Error: '{zip_file_path}' does not exist.\")"
      ]
    },
    {
      "cell_type": "code",
      "execution_count": null,
      "metadata": {
        "id": "7ZdNU2Heui5v"
      },
      "outputs": [],
      "source": [
        "import numpy as np\n",
        "import pandas as pd\n",
        "import matplotlib.pyplot as plt\n",
        "import os\n",
        "import glob as gb\n",
        "import cv2\n",
        "import glob\n",
        "import tensorflow as tf\n"
      ]
    },
    {
      "cell_type": "code",
      "execution_count": null,
      "metadata": {
        "id": "skZ4-DAXvKkC"
      },
      "outputs": [],
      "source": [
        "# from tensorflow.keras.application.mobilenet_v2 import preprocess_input"
      ]
    },
    {
      "cell_type": "code",
      "execution_count": null,
      "metadata": {
        "id": "4Dz6t-8XvdTv"
      },
      "outputs": [],
      "source": [
        "train='/content/new plant diseases dataset(augmented)/New Plant Diseases Dataset(Augmented)/train'"
      ]
    },
    {
      "cell_type": "code",
      "execution_count": null,
      "metadata": {
        "id": "2SlSm7XLv3xa"
      },
      "outputs": [],
      "source": [
        "size=224"
      ]
    },
    {
      "cell_type": "code",
      "execution_count": null,
      "metadata": {
        "colab": {
          "base_uri": "https://localhost:8080/"
        },
        "id": "yCoxAxCsv8Hf",
        "outputId": "87650c55-2939-45b1-f0b4-afaecbf5d1e2"
      },
      "outputs": [
        {
          "output_type": "stream",
          "name": "stdout",
          "text": [
            "Found 63282 images belonging to 38 classes.\n"
          ]
        }
      ],
      "source": [
        " train_generator=tf.keras.preprocessing.image.ImageDataGenerator(\n",
        "\n",
        "rotation_range=90,\n",
        "\n",
        "width_shift_range=0.0,\n",
        "\n",
        "height_shift_range=0.0,\n",
        "\n",
        "shear_range=0.0,\n",
        "\n",
        "zoom_range=0.0,\n",
        "\n",
        "horizontal_flip=False,\n",
        "\n",
        "vertical_flip=False,\n",
        "\n",
        "rescale=1/255.0,\n",
        "\n",
        "preprocessing_function=None,\n",
        "\n",
        "validation_split=0.1,\n",
        "\n",
        ").flow_from_directory (train,\n",
        "\n",
        "batch_size=164,\n",
        "\n",
        "target_size=(size,size),\n",
        "\n",
        "subset=\"training\",\n",
        "\n",
        "\n",
        "color_mode='rgb', #\"rgb\", \"rgba\", or \"grayscale\"\n",
        "\n",
        "class_mode='categorical', # Use 'binary', 'sparse', 'categorical' or None as needed\n",
        "\n",
        "shuffle=True)"
      ]
    },
    {
      "cell_type": "code",
      "execution_count": null,
      "metadata": {
        "colab": {
          "base_uri": "https://localhost:8080/"
        },
        "id": "j7mXp-cVwudi",
        "outputId": "a131ae30-96a6-4028-e08e-9ffe8a341896"
      },
      "outputs": [
        {
          "output_type": "execute_result",
          "data": {
            "text/plain": [
              "{'Apple___Apple_scab': 0,\n",
              " 'Apple___Black_rot': 1,\n",
              " 'Apple___Cedar_apple_rust': 2,\n",
              " 'Apple___healthy': 3,\n",
              " 'Blueberry___healthy': 4,\n",
              " 'Cherry_(including_sour)___Powdery_mildew': 5,\n",
              " 'Cherry_(including_sour)___healthy': 6,\n",
              " 'Corn_(maize)___Cercospora_leaf_spot Gray_leaf_spot': 7,\n",
              " 'Corn_(maize)___Common_rust_': 8,\n",
              " 'Corn_(maize)___Northern_Leaf_Blight': 9,\n",
              " 'Corn_(maize)___healthy': 10,\n",
              " 'Grape___Black_rot': 11,\n",
              " 'Grape___Esca_(Black_Measles)': 12,\n",
              " 'Grape___Leaf_blight_(Isariopsis_Leaf_Spot)': 13,\n",
              " 'Grape___healthy': 14,\n",
              " 'Orange___Haunglongbing_(Citrus_greening)': 15,\n",
              " 'Peach___Bacterial_spot': 16,\n",
              " 'Peach___healthy': 17,\n",
              " 'Pepper,_bell___Bacterial_spot': 18,\n",
              " 'Pepper,_bell___healthy': 19,\n",
              " 'Potato___Early_blight': 20,\n",
              " 'Potato___Late_blight': 21,\n",
              " 'Potato___healthy': 22,\n",
              " 'Raspberry___healthy': 23,\n",
              " 'Soybean___healthy': 24,\n",
              " 'Squash___Powdery_mildew': 25,\n",
              " 'Strawberry___Leaf_scorch': 26,\n",
              " 'Strawberry___healthy': 27,\n",
              " 'Tomato___Bacterial_spot': 28,\n",
              " 'Tomato___Early_blight': 29,\n",
              " 'Tomato___Late_blight': 30,\n",
              " 'Tomato___Leaf_Mold': 31,\n",
              " 'Tomato___Septoria_leaf_spot': 32,\n",
              " 'Tomato___Spider_mites Two-spotted_spider_mite': 33,\n",
              " 'Tomato___Target_Spot': 34,\n",
              " 'Tomato___Tomato_Yellow_Leaf_Curl_Virus': 35,\n",
              " 'Tomato___Tomato_mosaic_virus': 36,\n",
              " 'Tomato___healthy': 37}"
            ]
          },
          "metadata": {},
          "execution_count": 7
        }
      ],
      "source": [
        "train_generator.class_indices"
      ]
    },
    {
      "cell_type": "code",
      "execution_count": null,
      "metadata": {
        "id": "GUArxl1ywnnf"
      },
      "outputs": [],
      "source": [
        "valid='/content/new plant diseases dataset(augmented)/New Plant Diseases Dataset(Augmented)/valid'"
      ]
    },
    {
      "cell_type": "code",
      "execution_count": null,
      "metadata": {
        "colab": {
          "base_uri": "https://localhost:8080/"
        },
        "id": "kKaPQhtYxeMI",
        "outputId": "05f7ff13-2926-46e8-b436-83b303332f0d"
      },
      "outputs": [
        {
          "output_type": "stream",
          "name": "stdout",
          "text": [
            "Found 1742 images belonging to 38 classes.\n"
          ]
        }
      ],
      "source": [
        "valid_generator=tf.keras.preprocessing.image. ImageDataGenerator(\n",
        "\n",
        "rescale=1/255.0,\n",
        "\n",
        "preprocessing_function=None,\n",
        "\n",
        "validation_split=0.1,\n",
        "\n",
        ").flow_from_directory(valid,\n",
        "\n",
        "batch_size=164,\n",
        "\n",
        "target_size=(224,224),\n",
        "\n",
        "subset='validation',\n",
        "\n",
        "color_mode='rgb', #\"rgb\", \"rgba\", or \"grayscale\"\n",
        "\n",
        "class_mode='categorical', # Use 'binary', 'sparse', 'categorical' or None as needed\n",
        "\n",
        "shuffle=False)"
      ]
    },
    {
      "cell_type": "code",
      "execution_count": null,
      "metadata": {
        "colab": {
          "base_uri": "https://localhost:8080/"
        },
        "id": "VgBWcx-wHrMD",
        "outputId": "2b64ed9c-6db2-4927-d61f-900d9c315785"
      },
      "outputs": [
        {
          "output_type": "stream",
          "name": "stdout",
          "text": [
            "Found 63282 images belonging to 38 classes.\n",
            "Found 1742 images belonging to 38 classes.\n"
          ]
        }
      ],
      "source": [
        "# Ensure paths are correct:\n",
        "train = '/content/new plant diseases dataset(augmented)/New Plant Diseases Dataset(Augmented)/train'\n",
        "valid = '/content/new plant diseases dataset(augmented)/New Plant Diseases Dataset(Augmented)/valid'\n",
        "\n",
        "# Adjust batch size if needed:\n",
        "batch_size = 32  # Try a smaller batch size\n",
        "\n",
        "train_generator = tf.keras.preprocessing.image.ImageDataGenerator(\n",
        "    # ... your existing data augmentation parameters ...\n",
        "    validation_split=0.1,\n",
        ").flow_from_directory(\n",
        "    train,\n",
        "    batch_size=batch_size,  # Changed batch_size here\n",
        "    target_size=(size, size),\n",
        "    subset=\"training\",\n",
        "    color_mode='rgb',\n",
        "    class_mode='categorical',\n",
        "    shuffle=True\n",
        ")\n",
        "\n",
        "valid_generator = tf.keras.preprocessing.image.ImageDataGenerator(\n",
        "    rescale=1 / 255.0,\n",
        "    validation_split=0.1,\n",
        ").flow_from_directory(\n",
        "    valid,\n",
        "    batch_size=batch_size,  # Changed batch_size here\n",
        "    target_size=(224, 224),\n",
        "    subset='validation',\n",
        "    color_mode='rgb',\n",
        "    class_mode='categorical',\n",
        "    shuffle=False\n",
        ")\n",
        "\n",
        "# ... rest of your code ..."
      ]
    },
    {
      "cell_type": "code",
      "execution_count": null,
      "metadata": {
        "colab": {
          "base_uri": "https://localhost:8080/",
          "height": 555
        },
        "id": "AKmHWqCdxu33",
        "outputId": "80916083-31f4-4669-c24b-a0ece983b801"
      },
      "outputs": [
        {
          "output_type": "stream",
          "name": "stderr",
          "text": [
            "/usr/local/lib/python3.10/dist-packages/keras/src/layers/convolutional/base_conv.py:107: UserWarning: Do not pass an `input_shape`/`input_dim` argument to a layer. When using Sequential models, prefer using an `Input(shape)` object as the first layer in the model instead.\n",
            "  super().__init__(activity_regularizer=activity_regularizer, **kwargs)\n"
          ]
        },
        {
          "output_type": "display_data",
          "data": {
            "text/plain": [
              "\u001b[1mModel: \"sequential\"\u001b[0m\n"
            ],
            "text/html": [
              "<pre style=\"white-space:pre;overflow-x:auto;line-height:normal;font-family:Menlo,'DejaVu Sans Mono',consolas,'Courier New',monospace\"><span style=\"font-weight: bold\">Model: \"sequential\"</span>\n",
              "</pre>\n"
            ]
          },
          "metadata": {}
        },
        {
          "output_type": "display_data",
          "data": {
            "text/plain": [
              "┏━━━━━━━━━━━━━━━━━━━━━━━━━━━━━━━━━━━━━━┳━━━━━━━━━━━━━━━━━━━━━━━━━━━━━┳━━━━━━━━━━━━━━━━━┓\n",
              "┃\u001b[1m \u001b[0m\u001b[1mLayer (type)                        \u001b[0m\u001b[1m \u001b[0m┃\u001b[1m \u001b[0m\u001b[1mOutput Shape               \u001b[0m\u001b[1m \u001b[0m┃\u001b[1m \u001b[0m\u001b[1m        Param #\u001b[0m\u001b[1m \u001b[0m┃\n",
              "┡━━━━━━━━━━━━━━━━━━━━━━━━━━━━━━━━━━━━━━╇━━━━━━━━━━━━━━━━━━━━━━━━━━━━━╇━━━━━━━━━━━━━━━━━┩\n",
              "│ Conv1 (\u001b[38;5;33mConv2D\u001b[0m)                       │ (\u001b[38;5;45mNone\u001b[0m, \u001b[38;5;34m224\u001b[0m, \u001b[38;5;34m224\u001b[0m, \u001b[38;5;34m32\u001b[0m)        │           \u001b[38;5;34m4,736\u001b[0m │\n",
              "├──────────────────────────────────────┼─────────────────────────────┼─────────────────┤\n",
              "│ Pool1 (\u001b[38;5;33mMaxPooling2D\u001b[0m)                 │ (\u001b[38;5;45mNone\u001b[0m, \u001b[38;5;34m112\u001b[0m, \u001b[38;5;34m112\u001b[0m, \u001b[38;5;34m32\u001b[0m)        │               \u001b[38;5;34m0\u001b[0m │\n",
              "├──────────────────────────────────────┼─────────────────────────────┼─────────────────┤\n",
              "│ Conv2 (\u001b[38;5;33mConv2D\u001b[0m)                       │ (\u001b[38;5;45mNone\u001b[0m, \u001b[38;5;34m112\u001b[0m, \u001b[38;5;34m112\u001b[0m, \u001b[38;5;34m64\u001b[0m)        │          \u001b[38;5;34m51,264\u001b[0m │\n",
              "├──────────────────────────────────────┼─────────────────────────────┼─────────────────┤\n",
              "│ Pool2 (\u001b[38;5;33mMaxPooling2D\u001b[0m)                 │ (\u001b[38;5;45mNone\u001b[0m, \u001b[38;5;34m56\u001b[0m, \u001b[38;5;34m56\u001b[0m, \u001b[38;5;34m64\u001b[0m)          │               \u001b[38;5;34m0\u001b[0m │\n",
              "├──────────────────────────────────────┼─────────────────────────────┼─────────────────┤\n",
              "│ Conv3 (\u001b[38;5;33mConv2D\u001b[0m)                       │ (\u001b[38;5;45mNone\u001b[0m, \u001b[38;5;34m56\u001b[0m, \u001b[38;5;34m56\u001b[0m, \u001b[38;5;34m128\u001b[0m)         │          \u001b[38;5;34m73,856\u001b[0m │\n",
              "├──────────────────────────────────────┼─────────────────────────────┼─────────────────┤\n",
              "│ Conv4 (\u001b[38;5;33mConv2D\u001b[0m)                       │ (\u001b[38;5;45mNone\u001b[0m, \u001b[38;5;34m56\u001b[0m, \u001b[38;5;34m56\u001b[0m, \u001b[38;5;34m256\u001b[0m)         │         \u001b[38;5;34m295,168\u001b[0m │\n",
              "├──────────────────────────────────────┼─────────────────────────────┼─────────────────┤\n",
              "│ Pool3 (\u001b[38;5;33mMaxPooling2D\u001b[0m)                 │ (\u001b[38;5;45mNone\u001b[0m, \u001b[38;5;34m28\u001b[0m, \u001b[38;5;34m28\u001b[0m, \u001b[38;5;34m256\u001b[0m)         │               \u001b[38;5;34m0\u001b[0m │\n",
              "├──────────────────────────────────────┼─────────────────────────────┼─────────────────┤\n",
              "│ Flatten1 (\u001b[38;5;33mFlatten\u001b[0m)                   │ (\u001b[38;5;45mNone\u001b[0m, \u001b[38;5;34m200704\u001b[0m)              │               \u001b[38;5;34m0\u001b[0m │\n",
              "├──────────────────────────────────────┼─────────────────────────────┼─────────────────┤\n",
              "│ Dense1 (\u001b[38;5;33mDense\u001b[0m)                       │ (\u001b[38;5;45mNone\u001b[0m, \u001b[38;5;34m128\u001b[0m)                 │      \u001b[38;5;34m25,690,240\u001b[0m │\n",
              "├──────────────────────────────────────┼─────────────────────────────┼─────────────────┤\n",
              "│ Dense2 (\u001b[38;5;33mDense\u001b[0m)                       │ (\u001b[38;5;45mNone\u001b[0m, \u001b[38;5;34m64\u001b[0m)                  │           \u001b[38;5;34m8,256\u001b[0m │\n",
              "├──────────────────────────────────────┼─────────────────────────────┼─────────────────┤\n",
              "│ output (\u001b[38;5;33mDense\u001b[0m)                       │ (\u001b[38;5;45mNone\u001b[0m, \u001b[38;5;34m38\u001b[0m)                  │           \u001b[38;5;34m2,470\u001b[0m │\n",
              "└──────────────────────────────────────┴─────────────────────────────┴─────────────────┘\n"
            ],
            "text/html": [
              "<pre style=\"white-space:pre;overflow-x:auto;line-height:normal;font-family:Menlo,'DejaVu Sans Mono',consolas,'Courier New',monospace\">┏━━━━━━━━━━━━━━━━━━━━━━━━━━━━━━━━━━━━━━┳━━━━━━━━━━━━━━━━━━━━━━━━━━━━━┳━━━━━━━━━━━━━━━━━┓\n",
              "┃<span style=\"font-weight: bold\"> Layer (type)                         </span>┃<span style=\"font-weight: bold\"> Output Shape                </span>┃<span style=\"font-weight: bold\">         Param # </span>┃\n",
              "┡━━━━━━━━━━━━━━━━━━━━━━━━━━━━━━━━━━━━━━╇━━━━━━━━━━━━━━━━━━━━━━━━━━━━━╇━━━━━━━━━━━━━━━━━┩\n",
              "│ Conv1 (<span style=\"color: #0087ff; text-decoration-color: #0087ff\">Conv2D</span>)                       │ (<span style=\"color: #00d7ff; text-decoration-color: #00d7ff\">None</span>, <span style=\"color: #00af00; text-decoration-color: #00af00\">224</span>, <span style=\"color: #00af00; text-decoration-color: #00af00\">224</span>, <span style=\"color: #00af00; text-decoration-color: #00af00\">32</span>)        │           <span style=\"color: #00af00; text-decoration-color: #00af00\">4,736</span> │\n",
              "├──────────────────────────────────────┼─────────────────────────────┼─────────────────┤\n",
              "│ Pool1 (<span style=\"color: #0087ff; text-decoration-color: #0087ff\">MaxPooling2D</span>)                 │ (<span style=\"color: #00d7ff; text-decoration-color: #00d7ff\">None</span>, <span style=\"color: #00af00; text-decoration-color: #00af00\">112</span>, <span style=\"color: #00af00; text-decoration-color: #00af00\">112</span>, <span style=\"color: #00af00; text-decoration-color: #00af00\">32</span>)        │               <span style=\"color: #00af00; text-decoration-color: #00af00\">0</span> │\n",
              "├──────────────────────────────────────┼─────────────────────────────┼─────────────────┤\n",
              "│ Conv2 (<span style=\"color: #0087ff; text-decoration-color: #0087ff\">Conv2D</span>)                       │ (<span style=\"color: #00d7ff; text-decoration-color: #00d7ff\">None</span>, <span style=\"color: #00af00; text-decoration-color: #00af00\">112</span>, <span style=\"color: #00af00; text-decoration-color: #00af00\">112</span>, <span style=\"color: #00af00; text-decoration-color: #00af00\">64</span>)        │          <span style=\"color: #00af00; text-decoration-color: #00af00\">51,264</span> │\n",
              "├──────────────────────────────────────┼─────────────────────────────┼─────────────────┤\n",
              "│ Pool2 (<span style=\"color: #0087ff; text-decoration-color: #0087ff\">MaxPooling2D</span>)                 │ (<span style=\"color: #00d7ff; text-decoration-color: #00d7ff\">None</span>, <span style=\"color: #00af00; text-decoration-color: #00af00\">56</span>, <span style=\"color: #00af00; text-decoration-color: #00af00\">56</span>, <span style=\"color: #00af00; text-decoration-color: #00af00\">64</span>)          │               <span style=\"color: #00af00; text-decoration-color: #00af00\">0</span> │\n",
              "├──────────────────────────────────────┼─────────────────────────────┼─────────────────┤\n",
              "│ Conv3 (<span style=\"color: #0087ff; text-decoration-color: #0087ff\">Conv2D</span>)                       │ (<span style=\"color: #00d7ff; text-decoration-color: #00d7ff\">None</span>, <span style=\"color: #00af00; text-decoration-color: #00af00\">56</span>, <span style=\"color: #00af00; text-decoration-color: #00af00\">56</span>, <span style=\"color: #00af00; text-decoration-color: #00af00\">128</span>)         │          <span style=\"color: #00af00; text-decoration-color: #00af00\">73,856</span> │\n",
              "├──────────────────────────────────────┼─────────────────────────────┼─────────────────┤\n",
              "│ Conv4 (<span style=\"color: #0087ff; text-decoration-color: #0087ff\">Conv2D</span>)                       │ (<span style=\"color: #00d7ff; text-decoration-color: #00d7ff\">None</span>, <span style=\"color: #00af00; text-decoration-color: #00af00\">56</span>, <span style=\"color: #00af00; text-decoration-color: #00af00\">56</span>, <span style=\"color: #00af00; text-decoration-color: #00af00\">256</span>)         │         <span style=\"color: #00af00; text-decoration-color: #00af00\">295,168</span> │\n",
              "├──────────────────────────────────────┼─────────────────────────────┼─────────────────┤\n",
              "│ Pool3 (<span style=\"color: #0087ff; text-decoration-color: #0087ff\">MaxPooling2D</span>)                 │ (<span style=\"color: #00d7ff; text-decoration-color: #00d7ff\">None</span>, <span style=\"color: #00af00; text-decoration-color: #00af00\">28</span>, <span style=\"color: #00af00; text-decoration-color: #00af00\">28</span>, <span style=\"color: #00af00; text-decoration-color: #00af00\">256</span>)         │               <span style=\"color: #00af00; text-decoration-color: #00af00\">0</span> │\n",
              "├──────────────────────────────────────┼─────────────────────────────┼─────────────────┤\n",
              "│ Flatten1 (<span style=\"color: #0087ff; text-decoration-color: #0087ff\">Flatten</span>)                   │ (<span style=\"color: #00d7ff; text-decoration-color: #00d7ff\">None</span>, <span style=\"color: #00af00; text-decoration-color: #00af00\">200704</span>)              │               <span style=\"color: #00af00; text-decoration-color: #00af00\">0</span> │\n",
              "├──────────────────────────────────────┼─────────────────────────────┼─────────────────┤\n",
              "│ Dense1 (<span style=\"color: #0087ff; text-decoration-color: #0087ff\">Dense</span>)                       │ (<span style=\"color: #00d7ff; text-decoration-color: #00d7ff\">None</span>, <span style=\"color: #00af00; text-decoration-color: #00af00\">128</span>)                 │      <span style=\"color: #00af00; text-decoration-color: #00af00\">25,690,240</span> │\n",
              "├──────────────────────────────────────┼─────────────────────────────┼─────────────────┤\n",
              "│ Dense2 (<span style=\"color: #0087ff; text-decoration-color: #0087ff\">Dense</span>)                       │ (<span style=\"color: #00d7ff; text-decoration-color: #00d7ff\">None</span>, <span style=\"color: #00af00; text-decoration-color: #00af00\">64</span>)                  │           <span style=\"color: #00af00; text-decoration-color: #00af00\">8,256</span> │\n",
              "├──────────────────────────────────────┼─────────────────────────────┼─────────────────┤\n",
              "│ output (<span style=\"color: #0087ff; text-decoration-color: #0087ff\">Dense</span>)                       │ (<span style=\"color: #00d7ff; text-decoration-color: #00d7ff\">None</span>, <span style=\"color: #00af00; text-decoration-color: #00af00\">38</span>)                  │           <span style=\"color: #00af00; text-decoration-color: #00af00\">2,470</span> │\n",
              "└──────────────────────────────────────┴─────────────────────────────┴─────────────────┘\n",
              "</pre>\n"
            ]
          },
          "metadata": {}
        },
        {
          "output_type": "display_data",
          "data": {
            "text/plain": [
              "\u001b[1m Total params: \u001b[0m\u001b[38;5;34m26,125,990\u001b[0m (99.66 MB)\n"
            ],
            "text/html": [
              "<pre style=\"white-space:pre;overflow-x:auto;line-height:normal;font-family:Menlo,'DejaVu Sans Mono',consolas,'Courier New',monospace\"><span style=\"font-weight: bold\"> Total params: </span><span style=\"color: #00af00; text-decoration-color: #00af00\">26,125,990</span> (99.66 MB)\n",
              "</pre>\n"
            ]
          },
          "metadata": {}
        },
        {
          "output_type": "display_data",
          "data": {
            "text/plain": [
              "\u001b[1m Trainable params: \u001b[0m\u001b[38;5;34m26,125,990\u001b[0m (99.66 MB)\n"
            ],
            "text/html": [
              "<pre style=\"white-space:pre;overflow-x:auto;line-height:normal;font-family:Menlo,'DejaVu Sans Mono',consolas,'Courier New',monospace\"><span style=\"font-weight: bold\"> Trainable params: </span><span style=\"color: #00af00; text-decoration-color: #00af00\">26,125,990</span> (99.66 MB)\n",
              "</pre>\n"
            ]
          },
          "metadata": {}
        },
        {
          "output_type": "display_data",
          "data": {
            "text/plain": [
              "\u001b[1m Non-trainable params: \u001b[0m\u001b[38;5;34m0\u001b[0m (0.00 B)\n"
            ],
            "text/html": [
              "<pre style=\"white-space:pre;overflow-x:auto;line-height:normal;font-family:Menlo,'DejaVu Sans Mono',consolas,'Courier New',monospace\"><span style=\"font-weight: bold\"> Non-trainable params: </span><span style=\"color: #00af00; text-decoration-color: #00af00\">0</span> (0.00 B)\n",
              "</pre>\n"
            ]
          },
          "metadata": {}
        },
        {
          "output_type": "stream",
          "name": "stdout",
          "text": [
            "None\n"
          ]
        }
      ],
      "source": [
        "from tensorflow import keras\n",
        "\n",
        "model=keras.models.Sequential() # To build NN\n",
        "\n",
        "model.add(keras.layers.Conv2D (filters=32, kernel_size=7, strides=1,\n",
        "\n",
        "padding=\"same\", activation=\"relu\", name=\"Conv1\", input_shape=(224,224,3)))\n",
        "\n",
        "model.add(keras.layers.MaxPool2D(pool_size=2, name=\"Pool1\"))\n",
        "\n",
        "model.add(keras.layers.Conv2D (filters=64, kernel_size=5, strides=1,\n",
        "\n",
        "\n",
        "\n",
        "padding=\"same\", activation=\"relu\", name=\"Conv2\"))\n",
        "\n",
        "model.add(keras.layers.MaxPool2D (pool_size=2, name=\"Pool2\"))\n",
        "\n",
        "model.add(keras.layers.Conv2D (filters=128, kernel_size=3, strides=1,\n",
        "\n",
        "padding=\"same\", activation=\"relu\", name=\"Conv3\"))\n",
        "\n",
        "model.add(keras.layers.Conv2D(filters=256, kernel_size=3, strides=1,\n",
        "\n",
        "padding=\"same\", activation=\"relu\", name=\"Conv4\"))\n",
        "\n",
        "model.add(keras.layers.MaxPool2D (pool_size=2, name=\"Pool3\"))\n",
        "\n",
        "model.add(keras.layers.Flatten (name=\"Flatten1\")) #flatten layer to convert into 1d vector\n",
        "\n",
        "model.add(keras.layers. Dense (128, activation=\"relu\", name=\"Dense1\"))\n",
        "\n",
        "#hidden layer\n",
        "\n",
        "tf.keras.layers. Dropout(0.5)\n",
        "model.add(keras.layers.Dense (64, activation=\"relu\", name=\"Dense2\"))\n",
        "\n",
        "#hidden layer\n",
        "\n",
        "tf.keras.layers. Dropout(0.5)\n",
        "\n",
        "model.add(keras.layers.Dense (38, activation=\"softmax\", name=\"output\"))\n",
        "\n",
        "#outpu layer\n",
        "#this model's summary() method displays all the model's layers\n",
        "print(model.summary())"
      ]
    },
    {
      "cell_type": "code",
      "execution_count": null,
      "metadata": {
        "id": "CN7V3FPe0QKX"
      },
      "outputs": [],
      "source": [
        "from tensorflow.keras.callbacks import EarlyStopping, ModelCheckpoint, ReduceLROnPlateau\n",
        "\n",
        "early_stopping = EarlyStopping (monitor='val_loss', patience=15, restore_best_weights=True)\n",
        "\n",
        "model_checkpoint = ModelCheckpoint('best_model.keras', monitor='val_loss', save_best_only=True)\n",
        "\n",
        "model_ReduceLROPlateau = ReduceLROnPlateau (monitor='val_loss', factor=0.1, patience=15, min_lr=0.000001)\n",
        "\n",
        "callbacks=[early_stopping,model_checkpoint,model_ReduceLROPlateau]"
      ]
    },
    {
      "cell_type": "code",
      "execution_count": null,
      "metadata": {
        "id": "0UZ0DpahaRmz"
      },
      "outputs": [],
      "source": [
        "model.compile(optimizer='adam',\n",
        "              loss='categorical_crossentropy',\n",
        "              metrics=[tf.keras.metrics.Accuracy(),\n",
        "                       tf.keras.metrics.Precision(),\n",
        "                       tf.keras.metrics.Recall()])"
      ]
    },
    {
      "cell_type": "code",
      "execution_count": null,
      "metadata": {
        "id": "xD-tbDm51u6V"
      },
      "outputs": [],
      "source": [
        "model.compile(optimizer='adam', loss='categorical_crossentropy', metrics=['accuracy','precision','recall'])"
      ]
    },
    {
      "cell_type": "code",
      "execution_count": null,
      "metadata": {
        "colab": {
          "base_uri": "https://localhost:8080/"
        },
        "id": "S-aluLMA2NSw",
        "outputId": "128646bf-27a2-42ae-a7ab-4fbcecf9e81a"
      },
      "outputs": [
        {
          "output_type": "stream",
          "name": "stdout",
          "text": [
            "Epoch 1/5\n"
          ]
        },
        {
          "output_type": "stream",
          "name": "stderr",
          "text": [
            "/usr/local/lib/python3.10/dist-packages/keras/src/trainers/data_adapters/py_dataset_adapter.py:122: UserWarning: Your `PyDataset` class should call `super().__init__(**kwargs)` in its constructor. `**kwargs` can include `workers`, `use_multiprocessing`, `max_queue_size`. Do not pass these arguments to `fit()`, as they will be ignored.\n",
            "  self._warn_if_super_not_called()\n"
          ]
        },
        {
          "output_type": "stream",
          "name": "stdout",
          "text": [
            "\u001b[1m1978/1978\u001b[0m \u001b[32m━━━━━━━━━━━━━━━━━━━━\u001b[0m\u001b[37m\u001b[0m \u001b[1m256s\u001b[0m 122ms/step - accuracy: 0.2338 - loss: 6.7229 - precision: 0.6238 - recall: 0.1276 - val_accuracy: 0.0264 - val_loss: 12.7773 - val_precision: 0.0264 - val_recall: 0.0264 - learning_rate: 0.0010\n",
            "Epoch 2/5\n",
            "\u001b[1m1978/1978\u001b[0m \u001b[32m━━━━━━━━━━━━━━━━━━━━\u001b[0m\u001b[37m\u001b[0m \u001b[1m236s\u001b[0m 115ms/step - accuracy: 0.7884 - loss: 0.6809 - precision: 0.8584 - recall: 0.7267 - val_accuracy: 0.0379 - val_loss: 8.5987 - val_precision: 0.0483 - val_recall: 0.0310 - learning_rate: 0.0010\n",
            "Epoch 3/5\n",
            "\u001b[1m1978/1978\u001b[0m \u001b[32m━━━━━━━━━━━━━━━━━━━━\u001b[0m\u001b[37m\u001b[0m \u001b[1m225s\u001b[0m 113ms/step - accuracy: 0.8845 - loss: 0.3655 - precision: 0.9109 - recall: 0.8615 - val_accuracy: 0.0425 - val_loss: 12.9781 - val_precision: 0.0373 - val_recall: 0.0293 - learning_rate: 0.0010\n",
            "Epoch 4/5\n",
            "\u001b[1m1978/1978\u001b[0m \u001b[32m━━━━━━━━━━━━━━━━━━━━\u001b[0m\u001b[37m\u001b[0m \u001b[1m224s\u001b[0m 113ms/step - accuracy: 0.9017 - loss: 0.3135 - precision: 0.9234 - recall: 0.8847 - val_accuracy: 0.0264 - val_loss: 16.0144 - val_precision: 0.0264 - val_recall: 0.0264 - learning_rate: 0.0010\n",
            "Epoch 5/5\n",
            "\u001b[1m1978/1978\u001b[0m \u001b[32m━━━━━━━━━━━━━━━━━━━━\u001b[0m\u001b[37m\u001b[0m \u001b[1m224s\u001b[0m 113ms/step - accuracy: 0.9343 - loss: 0.2119 - precision: 0.9443 - recall: 0.9263 - val_accuracy: 0.0264 - val_loss: 23.3476 - val_precision: 0.0264 - val_recall: 0.0264 - learning_rate: 0.0010\n"
          ]
        }
      ],
      "source": [
        "history =  model.fit (train_generator,\n",
        "                  epochs=   5,\n",
        "                  validation_data=valid_generator,\n",
        "                  callbacks=callbacks)"
      ]
    },
    {
      "cell_type": "code",
      "execution_count": null,
      "metadata": {
        "id": "D5mDUVzeQCLr"
      },
      "outputs": [],
      "source": [
        "  model.save('/content/drive/My Drive/CNN_plantdisease_model.keras')"
      ]
    }
  ],
  "metadata": {
    "accelerator": "GPU",
    "colab": {
      "gpuType": "T4",
      "provenance": []
    },
    "kernelspec": {
      "display_name": "Python 3",
      "name": "python3"
    },
    "language_info": {
      "name": "python"
    }
  },
  "nbformat": 4,
  "nbformat_minor": 0
}